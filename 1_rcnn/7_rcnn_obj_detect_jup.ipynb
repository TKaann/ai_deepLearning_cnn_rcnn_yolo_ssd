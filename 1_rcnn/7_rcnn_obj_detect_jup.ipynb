{
 "cells": [
  {
   "cell_type": "code",
   "execution_count": null,
   "id": "9cada496",
   "metadata": {},
   "outputs": [],
   "source": [
    "import cv2\n",
    "#pickle i modelimizi iceriye aktarmak icin kullaniyoruz.\n",
    "import pickle\n",
    "import numpy as np\n",
    "import random\n",
    "from tensorflow.keras.preprocessing.image import img_to_array"
   ]
  },
  {
   "cell_type": "code",
   "execution_count": null,
   "id": "6d0bc804",
   "metadata": {},
   "outputs": [],
   "source": [
    "#secmeli arama ile resimlerimizi elde edicez ve kendimiz egittimiz evrisimsel sinir agini kullanarak nesne tespitini \n",
    "#gerceklestiricez.\n",
    "\n",
    "\n",
    "#daha onceden egittigimiz rakamlari taniyan modelimiz ile tespit ve siniflandirma yaptirticaz."
   ]
  },
  {
   "cell_type": "code",
   "execution_count": null,
   "id": "10fbb890",
   "metadata": {},
   "outputs": [],
   "source": [
    "image = cv2.imread(\"mnist.png\")\n",
    "cv2.imshow(\"Image\",image)\n",
    "\n",
    "#selective search ilklendirme islemini yapiyoruz.\n",
    "ss = cv2.ximgproc.segmentation.createSelectiveSearchSegmentation()\n",
    "ss.setBaseImage(image)\n",
    "ss.switchToSelectiveSearchQuality()\n",
    "\n",
    "print(\"SS\")\n",
    "rects = ss.process()\n",
    "\n",
    "proposals = []\n",
    "boxes = []\n",
    "output = image.copy()\n",
    "\n",
    "for (x,y,w,h) in rects[:100]:\n",
    "    \n",
    "    color = [random.randint(0,255) for j in range(0,3)]\n",
    "    cv2.rectangle(output, (x,y), (x+w,y+h),color, 2)\n",
    "    \n",
    "    roi = image[y:y+h,x:x+w]\n",
    "    #algirotmamizda 32 ye 32 olarak egittigimiz icin boyutunu 32 ye 32 yapiyoruz.\n",
    "    #INTER_LANCZOS4 ise resmi kuculturken yeni bir resim elde ettigimiz icin aradaki seyleri nasil dolduracagimizi ifade eden\n",
    "    #bir parametre. yani bunlari interpole eden parametremiz. \n",
    "    roi = cv2.resize(roi, dsize=(32,32), interpolation = cv2.INTER_LANCZOS4)\n",
    "    roi = cv2.cvtColor(roi, cv2.COLOR_BGR2GRAY)\n",
    "    \n",
    "    roi = img_to_array(roi)\n",
    "    \n",
    "    #propos region of interestlerimiz box ise koordinatlarimiz.\n",
    "    proposals.append(roi)\n",
    "    boxes.append((x,y,w+x,h+y))\n",
    "    \n",
    "#biri int biri float olacak.\n",
    "proposals = np.array(proposals, dtype = \"float64\")    \n",
    "boxes = np.array(boxes, dtype = \"int32\")    \n",
    "\n",
    "print(\"sınıflandırma\")\n",
    "#modelimizi okutuyoruz.\n",
    "pickle_in = open(\"model_trained_v4.p\", \"rb\")   \n",
    "model = pickle.load(pickle_in)\n",
    "#olasilik degerlerimize tahminlerimize bakiyoruz.\n",
    "proba = model.predict(proposals)\n",
    "\n",
    "number_list = []\n",
    "idx = []\n",
    "for i in range(len(proba)):\n",
    "    \n",
    "    #butun prob degerlerine bakiyorum ve en yuksek prob degerime bakiyorum\n",
    "    max_prob = np.max(proba[i,:])\n",
    "    #eger bu en yuksek prob deger benim istedigim thresholddan yuksek ise idx listem icine bu degeri ekliyorum\n",
    "    if max_prob > 0.95:\n",
    "        idx.append(i)\n",
    "        number_list.append(np.argmax(proba[i]))\n",
    "    \n",
    "#gorsellestirme. rect ciziyoruz.\n",
    "for i in range(len(number_list)):\n",
    "    \n",
    "    j = idx[i]\n",
    "    cv2.rectangle(image, (boxes[j,0], boxes[j,1]), (boxes[j,2],boxes[j,3]),[0,0,255],2)\n",
    "    cv2.putText(image, str(np.argmax(proba[j])),(boxes[j,0] + 5, boxes[j,1] +5 ), cv2.FONT_HERSHEY_COMPLEX,1.5,(0,255,0))\n",
    "    \n",
    "    cv2.imshow(\"Image\",image)"
   ]
  },
  {
   "cell_type": "code",
   "execution_count": null,
   "id": "5a7916b9",
   "metadata": {},
   "outputs": [],
   "source": []
  },
  {
   "cell_type": "code",
   "execution_count": null,
   "id": "c429b216",
   "metadata": {},
   "outputs": [],
   "source": []
  },
  {
   "cell_type": "code",
   "execution_count": null,
   "id": "3806f824",
   "metadata": {},
   "outputs": [],
   "source": []
  },
  {
   "cell_type": "code",
   "execution_count": null,
   "id": "4d7aefc7",
   "metadata": {},
   "outputs": [],
   "source": []
  },
  {
   "cell_type": "code",
   "execution_count": null,
   "id": "3cefb503",
   "metadata": {},
   "outputs": [],
   "source": []
  },
  {
   "cell_type": "code",
   "execution_count": null,
   "id": "138b9618",
   "metadata": {},
   "outputs": [],
   "source": []
  },
  {
   "cell_type": "code",
   "execution_count": null,
   "id": "ae037e44",
   "metadata": {},
   "outputs": [],
   "source": []
  },
  {
   "cell_type": "code",
   "execution_count": null,
   "id": "8f737def",
   "metadata": {},
   "outputs": [],
   "source": []
  },
  {
   "cell_type": "code",
   "execution_count": null,
   "id": "a7954113",
   "metadata": {},
   "outputs": [],
   "source": []
  },
  {
   "cell_type": "code",
   "execution_count": null,
   "id": "7b6698aa",
   "metadata": {},
   "outputs": [],
   "source": []
  },
  {
   "cell_type": "code",
   "execution_count": null,
   "id": "693b3df9",
   "metadata": {},
   "outputs": [],
   "source": []
  },
  {
   "cell_type": "code",
   "execution_count": null,
   "id": "09d58bfe",
   "metadata": {},
   "outputs": [],
   "source": []
  },
  {
   "cell_type": "code",
   "execution_count": null,
   "id": "d0980fae",
   "metadata": {},
   "outputs": [],
   "source": []
  },
  {
   "cell_type": "code",
   "execution_count": null,
   "id": "124d562b",
   "metadata": {},
   "outputs": [],
   "source": []
  },
  {
   "cell_type": "code",
   "execution_count": null,
   "id": "6c258a1e",
   "metadata": {},
   "outputs": [],
   "source": []
  },
  {
   "cell_type": "code",
   "execution_count": null,
   "id": "0c25494d",
   "metadata": {},
   "outputs": [],
   "source": []
  },
  {
   "cell_type": "code",
   "execution_count": null,
   "id": "34b8fa2f",
   "metadata": {},
   "outputs": [],
   "source": []
  },
  {
   "cell_type": "code",
   "execution_count": null,
   "id": "da30eba9",
   "metadata": {},
   "outputs": [],
   "source": []
  },
  {
   "cell_type": "code",
   "execution_count": null,
   "id": "f5def831",
   "metadata": {},
   "outputs": [],
   "source": []
  },
  {
   "cell_type": "code",
   "execution_count": null,
   "id": "1163e300",
   "metadata": {},
   "outputs": [],
   "source": []
  },
  {
   "cell_type": "code",
   "execution_count": null,
   "id": "bd039077",
   "metadata": {},
   "outputs": [],
   "source": []
  },
  {
   "cell_type": "code",
   "execution_count": null,
   "id": "320b33a6",
   "metadata": {},
   "outputs": [],
   "source": []
  }
 ],
 "metadata": {
  "kernelspec": {
   "display_name": "Python 3 (ipykernel)",
   "language": "python",
   "name": "python3"
  },
  "language_info": {
   "codemirror_mode": {
    "name": "ipython",
    "version": 3
   },
   "file_extension": ".py",
   "mimetype": "text/x-python",
   "name": "python",
   "nbconvert_exporter": "python",
   "pygments_lexer": "ipython3",
   "version": "3.9.18"
  }
 },
 "nbformat": 4,
 "nbformat_minor": 5
}
