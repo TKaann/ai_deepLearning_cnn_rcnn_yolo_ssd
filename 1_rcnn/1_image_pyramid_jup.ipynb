{
 "cells": [
  {
   "cell_type": "code",
   "execution_count": null,
   "id": "f3a7e8ee",
   "metadata": {},
   "outputs": [],
   "source": [
    "import cv2\n",
    "import matplotlib.pyplot as plt"
   ]
  },
  {
   "cell_type": "code",
   "execution_count": null,
   "id": "e3f0317d",
   "metadata": {},
   "outputs": [],
   "source": [
    "#burada minsize i tuple yapiyoruz cunku resimler 2 boyutlu oldugu icin 2 boyuta da ayri ayri bakmamiz gerekecek.\n",
    "def image_pyramid(image, scale = 1.5, minSize=(224,224)):\n",
    "    #burada resim generate edecegimiz icin cok resmimiz olacak bu resimleri uretip bir listenin icine koymak ve sonrasinda\n",
    "    #siniflandirmaya calismak zorlu bir surec ve memory de cok yer kaplar cunku resim dedigimiz sey matris oldugu icin\n",
    "    #cok fazla matris bizim istedigimiz bir durum degil. bu yuzden de yield komutunu kullanicaz ve resimleri generate edicez.\n",
    "    \n",
    "    yield image\n",
    "    \n",
    "    while True:\n",
    "        #fonksiyon floati kabul etmedigi icin inte ceviriyoruz scale ile kuculttugumuz resimleri.\n",
    "        w = int(image.shape[1]/scale)\n",
    "        #burada resmi kucultme islemini yapmaya devam ediyoruz.\n",
    "        image = cv2.resize(image, dsize=(w,w))\n",
    "        \n",
    "        #bunu eger resmimizin shape inin 0. indexi yani genisligi yukarda belirledigimiz minsize dan kucuk olana kadar devam.\n",
    "        if image.shape[0] < minSize[1] or image.shape[1] < minSize[0]:\n",
    "            break\n",
    "        #yield image diyoruz cunku icerdee generate ettigimiz imageler generate icinde return edilmis oluyor.\n",
    "        yield image\n",
    "        \n",
    "# img = cv2.imread(\"husky.jpg\")\n",
    "# im = image_pyramid(img,1.5, (10,10))\n",
    "# for i, image in enumerate(im):\n",
    "#     print(i)\n",
    "#     if i == 5:\n",
    "#         plt.imshow(image)"
   ]
  },
  {
   "cell_type": "code",
   "execution_count": null,
   "id": "2f2a3201",
   "metadata": {},
   "outputs": [],
   "source": []
  },
  {
   "cell_type": "code",
   "execution_count": null,
   "id": "21d34bf3",
   "metadata": {},
   "outputs": [],
   "source": []
  },
  {
   "cell_type": "code",
   "execution_count": null,
   "id": "389cc65c",
   "metadata": {},
   "outputs": [],
   "source": []
  },
  {
   "cell_type": "code",
   "execution_count": null,
   "id": "5246aa57",
   "metadata": {},
   "outputs": [],
   "source": []
  },
  {
   "cell_type": "code",
   "execution_count": null,
   "id": "a693363e",
   "metadata": {},
   "outputs": [],
   "source": []
  },
  {
   "cell_type": "code",
   "execution_count": null,
   "id": "d8276b8b",
   "metadata": {},
   "outputs": [],
   "source": []
  },
  {
   "cell_type": "code",
   "execution_count": null,
   "id": "2a2314ae",
   "metadata": {},
   "outputs": [],
   "source": []
  },
  {
   "cell_type": "code",
   "execution_count": null,
   "id": "8ba8a78f",
   "metadata": {},
   "outputs": [],
   "source": []
  },
  {
   "cell_type": "code",
   "execution_count": null,
   "id": "02679598",
   "metadata": {},
   "outputs": [],
   "source": []
  },
  {
   "cell_type": "code",
   "execution_count": null,
   "id": "8838ea61",
   "metadata": {},
   "outputs": [],
   "source": []
  },
  {
   "cell_type": "code",
   "execution_count": null,
   "id": "6c3c5e8f",
   "metadata": {},
   "outputs": [],
   "source": []
  },
  {
   "cell_type": "code",
   "execution_count": null,
   "id": "1efdb0ea",
   "metadata": {},
   "outputs": [],
   "source": []
  },
  {
   "cell_type": "code",
   "execution_count": null,
   "id": "d116d7b8",
   "metadata": {},
   "outputs": [],
   "source": []
  },
  {
   "cell_type": "code",
   "execution_count": null,
   "id": "1efd82be",
   "metadata": {},
   "outputs": [],
   "source": []
  },
  {
   "cell_type": "code",
   "execution_count": null,
   "id": "ce4b4bae",
   "metadata": {},
   "outputs": [],
   "source": []
  },
  {
   "cell_type": "code",
   "execution_count": null,
   "id": "37581f8c",
   "metadata": {},
   "outputs": [],
   "source": []
  },
  {
   "cell_type": "code",
   "execution_count": null,
   "id": "01a6dcfe",
   "metadata": {},
   "outputs": [],
   "source": []
  },
  {
   "cell_type": "code",
   "execution_count": null,
   "id": "12b61795",
   "metadata": {},
   "outputs": [],
   "source": []
  },
  {
   "cell_type": "code",
   "execution_count": null,
   "id": "39b509b7",
   "metadata": {},
   "outputs": [],
   "source": []
  }
 ],
 "metadata": {
  "kernelspec": {
   "display_name": "Python 3 (ipykernel)",
   "language": "python",
   "name": "python3"
  },
  "language_info": {
   "codemirror_mode": {
    "name": "ipython",
    "version": 3
   },
   "file_extension": ".py",
   "mimetype": "text/x-python",
   "name": "python",
   "nbconvert_exporter": "python",
   "pygments_lexer": "ipython3",
   "version": "3.9.18"
  }
 },
 "nbformat": 4,
 "nbformat_minor": 5
}
