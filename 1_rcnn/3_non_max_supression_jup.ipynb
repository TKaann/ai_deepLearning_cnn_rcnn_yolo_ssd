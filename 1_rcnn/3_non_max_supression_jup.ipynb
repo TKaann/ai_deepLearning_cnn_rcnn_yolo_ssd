{
 "cells": [
  {
   "cell_type": "code",
   "execution_count": null,
   "id": "54144810",
   "metadata": {},
   "outputs": [],
   "source": [
    "import numpy as np\n",
    "import cv2"
   ]
  },
  {
   "cell_type": "code",
   "execution_count": null,
   "id": "d9188269",
   "metadata": {},
   "outputs": [],
   "source": [
    "#burada boxesleri aliyoruz cunku bizim icin en uygun olan box i secmemiz gerek\n",
    "#probs ise kutularin dogru yerde olmasi ve dogru nesneyi secme olasilik degeridir,\n",
    "#overlapThresh ise birden fazla kutu cizdirildiginde buyuk olcude ortusenleri elemeye yarar.\n",
    "def non_max_suppression(boxes, probs = None, overlapThresh=0.3):\n",
    "    \n",
    "    #boxed gelmezse bunu bos bir liste olarak donduruyoruz.\n",
    "    if len(boxes) == 0:\n",
    "        return []\n",
    "    \n",
    "    #burda ise gelen kutularin type i int ise float a donduruyoruz.\n",
    "    if boxes.dtype.kind == \"i\":\n",
    "        boxes = boxes.astype(\"float\")\n",
    "    \n",
    "    #buradaki x1 ve y1  noktasi kutucugumuzun sol ust noktasi \n",
    "    #x2 ve y2  degerleri ise kutucugumuzun sag alt noktasini temsil ediyor.\n",
    "    #buradlarda koseleri buluyoruz.\n",
    "    x1 = boxes[:,0]\n",
    "    y1 = boxes[:,1]\n",
    "    x2 = boxes[:,2]\n",
    "    y2 = boxes[:,3]\n",
    "    \n",
    "    #buralarda ise alanı buluyoruz.\n",
    "    area = (x2 - x1 + 1)*(y2 - y1 + 1)\n",
    "    \n",
    "    idxs = y2\n",
    "    \n",
    "    #olasılık degerleri yani yukarda tanimladigimiz probs degerlerimiz. olasilik degerlerine gore kutucuklari siralayacaz.\n",
    "    if probs is not None:\n",
    "        \n",
    "        #kutucuklarimizin indeksini olasiklara gore siralayacagimiz icin olasiliga esitliyoruz.\n",
    "        idxs = probs\n",
    "        \n",
    "    #indeksi siraliyoruz, (burdaki idxs i zaten olasiliga esitledik yukarda, yani olasiliga gore siraliyoruz kutularimizi.)\n",
    "    idxs = np.argsort(idxs)\n",
    "    \n",
    "    #secilen kutulari buraya yazicaz.\n",
    "    pick = [] \n",
    "    \n",
    "    while len(idxs) > 0:\n",
    "        \n",
    "        last = len(idxs) - 1\n",
    "        i = idxs[last]\n",
    "        pick.append(i)\n",
    "        \n",
    "        #en buyuk ve en küçük x ve y noktalarini buluyoruz.\n",
    "        xx1 = np.maximum(x1[i], x1[idxs[:last]])\n",
    "        yy1 = np.maximum(y1[i], y1[idxs[:last]])\n",
    "        xx2 = np.minimum(x2[i], x2[idxs[:last]])\n",
    "        yy2 = np.minimum(y2[i], y2[idxs[:last]])\n",
    "        \n",
    "        #rect in yukseklik ve genislik yani w ve h degerlerini buluyoruz.\n",
    "        w = np.maximum(0,xx2 - xx1 + 1)\n",
    "        h = np.maximum(0,yy2 - yy1 + 1)\n",
    "        \n",
    "        #overlap yani iou\n",
    "        overlap = (w*h)/area[idxs[:last]]\n",
    "        \n",
    "        #threshold degerimizin altinda olan idxs leri siliyoruz.\n",
    "        idxs = np.delete(idxs, np.concatenate(([last], np.where(overlap > overlapThresh)[0])))\n",
    "        \n",
    "    return boxes[pick].astype(\"int\")"
   ]
  },
  {
   "cell_type": "code",
   "execution_count": null,
   "id": "c7d4be7e",
   "metadata": {},
   "outputs": [],
   "source": []
  },
  {
   "cell_type": "code",
   "execution_count": null,
   "id": "7a91043e",
   "metadata": {},
   "outputs": [],
   "source": []
  },
  {
   "cell_type": "code",
   "execution_count": null,
   "id": "77f6315b",
   "metadata": {},
   "outputs": [],
   "source": []
  },
  {
   "cell_type": "code",
   "execution_count": null,
   "id": "9f59d099",
   "metadata": {},
   "outputs": [],
   "source": []
  },
  {
   "cell_type": "code",
   "execution_count": null,
   "id": "596e3b48",
   "metadata": {},
   "outputs": [],
   "source": []
  },
  {
   "cell_type": "code",
   "execution_count": null,
   "id": "c638dcce",
   "metadata": {},
   "outputs": [],
   "source": []
  },
  {
   "cell_type": "code",
   "execution_count": null,
   "id": "daf214c9",
   "metadata": {},
   "outputs": [],
   "source": []
  },
  {
   "cell_type": "code",
   "execution_count": null,
   "id": "9044f797",
   "metadata": {},
   "outputs": [],
   "source": []
  },
  {
   "cell_type": "code",
   "execution_count": null,
   "id": "fcc1910c",
   "metadata": {},
   "outputs": [],
   "source": []
  },
  {
   "cell_type": "code",
   "execution_count": null,
   "id": "26dd81aa",
   "metadata": {},
   "outputs": [],
   "source": []
  },
  {
   "cell_type": "code",
   "execution_count": null,
   "id": "2b646e48",
   "metadata": {},
   "outputs": [],
   "source": []
  },
  {
   "cell_type": "code",
   "execution_count": null,
   "id": "92152f0f",
   "metadata": {},
   "outputs": [],
   "source": []
  },
  {
   "cell_type": "code",
   "execution_count": null,
   "id": "7cc6c1e2",
   "metadata": {},
   "outputs": [],
   "source": []
  },
  {
   "cell_type": "code",
   "execution_count": null,
   "id": "e7d45ae0",
   "metadata": {},
   "outputs": [],
   "source": []
  },
  {
   "cell_type": "code",
   "execution_count": null,
   "id": "0d7e6cb3",
   "metadata": {},
   "outputs": [],
   "source": []
  },
  {
   "cell_type": "code",
   "execution_count": null,
   "id": "b4b532c1",
   "metadata": {},
   "outputs": [],
   "source": []
  },
  {
   "cell_type": "code",
   "execution_count": null,
   "id": "749ffa0e",
   "metadata": {},
   "outputs": [],
   "source": []
  },
  {
   "cell_type": "code",
   "execution_count": null,
   "id": "ead13b3a",
   "metadata": {},
   "outputs": [],
   "source": []
  },
  {
   "cell_type": "code",
   "execution_count": null,
   "id": "ee96a3b6",
   "metadata": {},
   "outputs": [],
   "source": []
  },
  {
   "cell_type": "code",
   "execution_count": null,
   "id": "cdd37cf1",
   "metadata": {},
   "outputs": [],
   "source": []
  },
  {
   "cell_type": "code",
   "execution_count": null,
   "id": "02aa0f3d",
   "metadata": {},
   "outputs": [],
   "source": []
  }
 ],
 "metadata": {
  "kernelspec": {
   "display_name": "Python 3 (ipykernel)",
   "language": "python",
   "name": "python3"
  },
  "language_info": {
   "codemirror_mode": {
    "name": "ipython",
    "version": 3
   },
   "file_extension": ".py",
   "mimetype": "text/x-python",
   "name": "python",
   "nbconvert_exporter": "python",
   "pygments_lexer": "ipython3",
   "version": "3.9.18"
  }
 },
 "nbformat": 4,
 "nbformat_minor": 5
}
