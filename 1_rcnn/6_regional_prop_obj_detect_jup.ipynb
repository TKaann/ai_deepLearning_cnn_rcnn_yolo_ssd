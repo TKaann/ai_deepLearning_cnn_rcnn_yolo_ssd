{
 "cells": [
  {
   "cell_type": "code",
   "execution_count": null,
   "id": "2903ef77",
   "metadata": {},
   "outputs": [],
   "source": [
    "#bu algoritmamiz 2 asamadan olusmaktadir. birincisi secmeli arama yapiyoruz. onceki derste gordugumuz secmeli arama ile\n",
    "#resimler uzerinde segmentasyon islemi yapiyoruz.\n",
    "\n",
    "#ikincisi ise imageNet veri seti uzerinden egitilmis olan resnet evrisimsel sinir agini kullanarak siniflandirma yapiyoruz.\n",
    "#bu daha onceden kullandigimi cnn di."
   ]
  },
  {
   "cell_type": "code",
   "execution_count": null,
   "id": "a93c51fe",
   "metadata": {},
   "outputs": [],
   "source": [
    "from tensorflow.keras.applications.resnet50 import preprocess_input \n",
    "from tensorflow.keras.applications import ResNet50\n",
    "from tensorflow.keras.preprocessing.image import img_to_array\n",
    "from keras.applications import imagenet_utils\n",
    "import numpy as np\n",
    "import cv2\n",
    "\n",
    "#bu non max ayni objeyi birden fazla kez tespit ettiysek onu azaltmaya yariyordu o yuzden bunu ellemiyoruz.\n",
    "from non_max_supression import non_max_suppression"
   ]
  },
  {
   "cell_type": "code",
   "execution_count": null,
   "id": "b4b2eb59",
   "metadata": {},
   "outputs": [],
   "source": [
    "#onceki derste yazdigimiz selective_search algoritmasini yaziyoruz.\n",
    "def selective_search(image):\n",
    "    print(\"ss\")\n",
    "    ss = cv2.ximgproc.segmentation.createSelectiveSearchSegmentation()\n",
    "    ss.setBaseImage(image)\n",
    "\n",
    "    ss.switchToSelectiveSearchQuality()\n",
    "    \n",
    "    rects = ss.process()\n",
    "    #hepsini degil ilk 1000 tanesini return ediyoruz hepsini return edince siniflandirma islemi uzun suruyor.\n",
    "    return rects[:1000]\n",
    "\n",
    "\n",
    "#model olarka resneti kullandigmiz icin import ediyoruz resneti.\n",
    "model = ResNet50(weights=\"imagenet\")    \n",
    "image = cv2.imread(\"animals.jpg\")\n",
    "image = cv2.resize(image, dsize = (400,400))\n",
    "(H, W) = image.shape[:2]\n",
    "\n",
    "\n",
    "#ss islemini kosturuyoruz.\n",
    "rects = selective_search(image)\n",
    "\n",
    "#yukardaki islem sonuucnda region of interest buluyoruz ve bunlara ait koordinatlari burdaki iki liste icine aticaz.\n",
    "proposals = []\n",
    "boxes = []\n",
    "for (x, y, w, h) in rects:\n",
    "\n",
    "    #oncekinden farkli olarak bu komut satirini yaziyoruz burda ise\n",
    "    #bizim genisligimiz ve yuksekligimiz regionumuzun %10 undan daha azsa buraya girmeden devam et diyoruz.\n",
    "    if w / float(W) < 0.1 or h / float(H) < 0.1: continue\n",
    "    \n",
    "    #roileri resim uzeinden buluyoruz sonrasinda rengini degistiriyoruz ve resize islemi yapiyoruz\n",
    "    roi = image[y:y + h, x:x + w]\n",
    "    roi = cv2.cvtColor(roi, cv2.COLOR_BGR2RGB)\n",
    "    roi = cv2.resize(roi, (224, 224))\n",
    "    \n",
    "    #sonra bunlai arraye ceviriyoruz ve processec i kullanarak resnet icin uygun hale getiriyoruz.\n",
    "    roi = img_to_array(roi)\n",
    "    roi = preprocess_input(roi)\n",
    "\n",
    "    #sonrasinda elde ettiklerimizi yukardaki yazdigimiz 2 tane liste icine atiyoruz.\n",
    "    proposals.append(roi)\n",
    "    boxes.append((x, y, w, h))\n",
    "\n",
    "#arraye ceviriyoruz.\n",
    "proposals = np.array(proposals)\n",
    "\n",
    "#modelimizin predict islemini gerceklestiriytoruz.\n",
    "print(\"predict\")\n",
    "preds = model.predict(proposals)\n",
    "preds = imagenet_utils.decode_predictions(preds, top=1)\n",
    "\n",
    "#simdi ise belli bir predict oraninin uzerindekileri aliyoruz. onceki derslerde bu islemi yapmistik.\n",
    "labels = {}\n",
    "min_conf = 0.8\n",
    "for (i, p) in enumerate(preds):\n",
    "    \n",
    "    #imagenetId onemdiz oldugu icin onu almiyoruz label ve prob u aliyoruz.\n",
    "    (_, label, prob) = p[0]\n",
    "    if prob >= min_conf:\n",
    "        (x, y, w, h) = boxes[i]\n",
    "        box = (x, y, x + w, y + h)\n",
    "        L = labels.get(label, [])\n",
    "        L.append((box, prob))\n",
    "        labels[label] = L\n",
    "\n",
    "clone = image.copy()\n",
    "\n",
    "for label in labels.keys():\n",
    "    for (box, prob) in labels[label]:\n",
    "        #her bit kutu ve olasilik degerini ayikliyoruz ve bunlari kullanarak non max yontemimizi cagiriyoruz.\n",
    "        boxes = np.array([p[0] for p in labels[label]])\n",
    "        proba = np.array([p[1] for p in labels[label]])\n",
    "        boxes = non_max_suppression(boxes, proba)\n",
    "        \n",
    "    \n",
    "        #burda ise elde ettigmiz nihai kutucuklari gorsellestiriyoruz.\n",
    "        for (startX, startY, endX, endY) in boxes:\n",
    "            cv2.rectangle(clone, (startX, startY), (endX, endY),(0, 0, 255), 2)\n",
    "            y = startY - 10 if startY - 10 > 10 else startY + 10\n",
    "            cv2.putText(clone, label, (startX, y),cv2.FONT_HERSHEY_SIMPLEX, 0.6, (0, 255, 0), 2)\n",
    "            \n",
    "        cv2.imshow(\"After\", clone)\n",
    "        if cv2.waitKey(1) & 0xFF == ord('q'):break"
   ]
  },
  {
   "cell_type": "code",
   "execution_count": null,
   "id": "fa8f4984",
   "metadata": {},
   "outputs": [],
   "source": []
  },
  {
   "cell_type": "code",
   "execution_count": null,
   "id": "0583b8f5",
   "metadata": {},
   "outputs": [],
   "source": []
  },
  {
   "cell_type": "code",
   "execution_count": null,
   "id": "bd793266",
   "metadata": {},
   "outputs": [],
   "source": []
  },
  {
   "cell_type": "code",
   "execution_count": null,
   "id": "0c70f3dc",
   "metadata": {},
   "outputs": [],
   "source": []
  },
  {
   "cell_type": "code",
   "execution_count": null,
   "id": "9d650148",
   "metadata": {},
   "outputs": [],
   "source": []
  },
  {
   "cell_type": "code",
   "execution_count": null,
   "id": "9deaa634",
   "metadata": {},
   "outputs": [],
   "source": []
  },
  {
   "cell_type": "code",
   "execution_count": null,
   "id": "6048c050",
   "metadata": {},
   "outputs": [],
   "source": []
  },
  {
   "cell_type": "code",
   "execution_count": null,
   "id": "0ed4aa67",
   "metadata": {},
   "outputs": [],
   "source": []
  },
  {
   "cell_type": "code",
   "execution_count": null,
   "id": "a5f7e903",
   "metadata": {},
   "outputs": [],
   "source": []
  },
  {
   "cell_type": "code",
   "execution_count": null,
   "id": "3f59ed4a",
   "metadata": {},
   "outputs": [],
   "source": []
  },
  {
   "cell_type": "code",
   "execution_count": null,
   "id": "69fc0b2f",
   "metadata": {},
   "outputs": [],
   "source": []
  },
  {
   "cell_type": "code",
   "execution_count": null,
   "id": "252aa5c7",
   "metadata": {},
   "outputs": [],
   "source": []
  },
  {
   "cell_type": "code",
   "execution_count": null,
   "id": "a4c91f81",
   "metadata": {},
   "outputs": [],
   "source": []
  },
  {
   "cell_type": "code",
   "execution_count": null,
   "id": "e764b802",
   "metadata": {},
   "outputs": [],
   "source": []
  },
  {
   "cell_type": "code",
   "execution_count": null,
   "id": "9b0ecd02",
   "metadata": {},
   "outputs": [],
   "source": []
  },
  {
   "cell_type": "code",
   "execution_count": null,
   "id": "d1291498",
   "metadata": {},
   "outputs": [],
   "source": []
  },
  {
   "cell_type": "code",
   "execution_count": null,
   "id": "e88a095c",
   "metadata": {},
   "outputs": [],
   "source": []
  },
  {
   "cell_type": "code",
   "execution_count": null,
   "id": "2bdee7a3",
   "metadata": {},
   "outputs": [],
   "source": []
  },
  {
   "cell_type": "code",
   "execution_count": null,
   "id": "17ae35f5",
   "metadata": {},
   "outputs": [],
   "source": []
  },
  {
   "cell_type": "code",
   "execution_count": null,
   "id": "31c3f4bf",
   "metadata": {},
   "outputs": [],
   "source": []
  }
 ],
 "metadata": {
  "kernelspec": {
   "display_name": "Python 3 (ipykernel)",
   "language": "python",
   "name": "python3"
  },
  "language_info": {
   "codemirror_mode": {
    "name": "ipython",
    "version": 3
   },
   "file_extension": ".py",
   "mimetype": "text/x-python",
   "name": "python",
   "nbconvert_exporter": "python",
   "pygments_lexer": "ipython3",
   "version": "3.9.18"
  }
 },
 "nbformat": 4,
 "nbformat_minor": 5
}
