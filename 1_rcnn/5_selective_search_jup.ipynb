{
 "cells": [
  {
   "cell_type": "code",
   "execution_count": null,
   "id": "5bb50968",
   "metadata": {},
   "outputs": [],
   "source": [
    "import cv2\n",
    "import random"
   ]
  },
  {
   "cell_type": "code",
   "execution_count": null,
   "id": "94bee9d4",
   "metadata": {},
   "outputs": [],
   "source": [
    "#selective search fonksiyonumuz pyramid ve selected window fonksiyonlarina alternatif olarak yapacagimiz fonksiyondur.\n",
    "\n",
    "\n",
    "image = cv2.imread(\"pyramid.jpg\")\n",
    "image = cv2.resize(image, dsize = (600,600))\n",
    "cv2.imshow(\"image\",image)\n",
    "\n",
    "#selective search algoritmamizi ilklendiriyoruz. burada segmenatation algoritmasiyla yapiyoruz.\n",
    "#burada aslinda selective search algoritmamizi iceriye aktariyoruz.\n",
    "ss = cv2.ximgproc.segmentation.createSelectiveSearchSegmentation()\n",
    "ss.setBaseImage(image)\n",
    "ss.switchToSelectiveSearchQuality()\n",
    "\n",
    "#burada ise algoritmamizi kosturuyoruz.\n",
    "print(\"start\")\n",
    "rects = ss.process()\n",
    "\n",
    "output = image.copy()\n",
    "\n",
    "#burada bizim rects algoritmamiz 9k kusur tane rectangle olusturdu biz burada ilk 50 tanesine bakiyoruz.\n",
    "for (x,y,w,h) in rects[:50]:\n",
    "    color = [random.randint(0,255) for j in range(0,3)]\n",
    "    cv2.rectangle(output, (x,y),(x+w,y+h),color,2)\n",
    "    \n",
    "cv2.imshow(\"output\",output)"
   ]
  },
  {
   "cell_type": "code",
   "execution_count": null,
   "id": "7b036240",
   "metadata": {},
   "outputs": [],
   "source": [
    "#burada yapilan yani nesne tespiti icin secmeli arama. burada yapilan is super piksek algoritmasi kullanarak bir goseli\n",
    "#asiri bolumlere ayirma yontemidir. yani bir segmentasyon yapiyoruz.\n",
    "\n",
    "#super piksel, ortak ozellikleri paylasan bir piksel grubu olarak tanimlanabilir. yani bir kume olarak dusunebiliriz.\n",
    "\n",
    "#burada 5 temel benzelik olcusu vardir bunlar\n",
    "#1 - renk benzerlikleri \n",
    "#2 - doku benzelikleri\n",
    "#3 - boyut benzerlikleri\n",
    "#4 - sekil benzerlikleri\n",
    "#5 - yukaridaki benzerliklerin dogrusal kombinasyonu \n",
    "\n",
    "#secmeli arama sinf etiketleri degil bolgeler olusturur. secmeli arama dedigimiz sey bir nesne tespit yontemi degildir.\n",
    "#secmeli arama daha onceden ogrenmis oldugumuz resim piramidi ve sliding window (kayan pencere) algoritmalarina alternatif\n",
    "#bir algoritmadir. yani buarad herhangi bir sinif etiketi olusmuyor. \n",
    "#secmeli aramada sadece burada bir nesne olabilir diye pencereler olustuurluyor.\n",
    "#bu pencereler ise yukardaki maddeller dogrultusunda belirleniyor."
   ]
  },
  {
   "cell_type": "code",
   "execution_count": null,
   "id": "221f0166",
   "metadata": {},
   "outputs": [],
   "source": []
  },
  {
   "cell_type": "code",
   "execution_count": null,
   "id": "804b8f6c",
   "metadata": {},
   "outputs": [],
   "source": []
  },
  {
   "cell_type": "code",
   "execution_count": null,
   "id": "656b1e60",
   "metadata": {},
   "outputs": [],
   "source": []
  },
  {
   "cell_type": "code",
   "execution_count": null,
   "id": "4c2a370b",
   "metadata": {},
   "outputs": [],
   "source": []
  },
  {
   "cell_type": "code",
   "execution_count": null,
   "id": "2ce07e57",
   "metadata": {},
   "outputs": [],
   "source": []
  },
  {
   "cell_type": "code",
   "execution_count": null,
   "id": "6ea294a9",
   "metadata": {},
   "outputs": [],
   "source": []
  },
  {
   "cell_type": "code",
   "execution_count": null,
   "id": "9d7db7eb",
   "metadata": {},
   "outputs": [],
   "source": []
  },
  {
   "cell_type": "code",
   "execution_count": null,
   "id": "694a20ab",
   "metadata": {},
   "outputs": [],
   "source": []
  },
  {
   "cell_type": "code",
   "execution_count": null,
   "id": "83c24440",
   "metadata": {},
   "outputs": [],
   "source": []
  },
  {
   "cell_type": "code",
   "execution_count": null,
   "id": "ef37b203",
   "metadata": {},
   "outputs": [],
   "source": []
  },
  {
   "cell_type": "code",
   "execution_count": null,
   "id": "88da96b9",
   "metadata": {},
   "outputs": [],
   "source": []
  },
  {
   "cell_type": "code",
   "execution_count": null,
   "id": "324c9606",
   "metadata": {},
   "outputs": [],
   "source": []
  },
  {
   "cell_type": "code",
   "execution_count": null,
   "id": "6e24f945",
   "metadata": {},
   "outputs": [],
   "source": []
  },
  {
   "cell_type": "code",
   "execution_count": null,
   "id": "6dac5742",
   "metadata": {},
   "outputs": [],
   "source": []
  },
  {
   "cell_type": "code",
   "execution_count": null,
   "id": "0c4d972e",
   "metadata": {},
   "outputs": [],
   "source": []
  },
  {
   "cell_type": "code",
   "execution_count": null,
   "id": "1d507776",
   "metadata": {},
   "outputs": [],
   "source": []
  },
  {
   "cell_type": "code",
   "execution_count": null,
   "id": "f5962057",
   "metadata": {},
   "outputs": [],
   "source": []
  },
  {
   "cell_type": "code",
   "execution_count": null,
   "id": "1d4e9ffb",
   "metadata": {},
   "outputs": [],
   "source": []
  },
  {
   "cell_type": "code",
   "execution_count": null,
   "id": "3debc490",
   "metadata": {},
   "outputs": [],
   "source": []
  },
  {
   "cell_type": "code",
   "execution_count": null,
   "id": "b0e3888b",
   "metadata": {},
   "outputs": [],
   "source": []
  },
  {
   "cell_type": "code",
   "execution_count": null,
   "id": "96bf319c",
   "metadata": {},
   "outputs": [],
   "source": []
  }
 ],
 "metadata": {
  "kernelspec": {
   "display_name": "Python 3 (ipykernel)",
   "language": "python",
   "name": "python3"
  },
  "language_info": {
   "codemirror_mode": {
    "name": "ipython",
    "version": 3
   },
   "file_extension": ".py",
   "mimetype": "text/x-python",
   "name": "python",
   "nbconvert_exporter": "python",
   "pygments_lexer": "ipython3",
   "version": "3.9.18"
  }
 },
 "nbformat": 4,
 "nbformat_minor": 5
}
