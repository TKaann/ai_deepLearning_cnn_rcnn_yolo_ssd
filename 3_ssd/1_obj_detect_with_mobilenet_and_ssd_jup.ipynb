{
 "cells": [
  {
   "cell_type": "code",
   "execution_count": null,
   "id": "78eadde1",
   "metadata": {},
   "outputs": [],
   "source": [
    "#ssd denilen kavram kayan pencere kullanmak yerine goruntuyu bir izgara kullanarak boluyor ve her bir izgara hucresinin\n",
    "#goruntunun o bolgedeki nesneleri tespit etmekten sorumlu olmasini sagliyor.\n",
    "\n",
    "#nesneleri algilama, o bolgedeki bir nesnenin sinifini ve tahmine etmek anlamina geliyor.\n",
    "\n",
    "#mesela normal bir resmi 8 e 8 parcalara boldugunu ve ordaki her bir izgaranin icerisindeki resmi tespit etmeye calistigini\n",
    "#dusunebiliriz. hem siniflandiriyoruz hem de siniflandirma sonucunda bir sey bulabilirse resim icinde tespit etmeye calisiyoruz.\n",
    "#sonrasinda bunu birlstirdigmiz zaman ortaya bizim tespit etmek istedigimiz obje cikiyor.\n",
    "#objeyi tespit ettigmizde ise otomatik olarak x y kordinatlari ve genislik yukselik degerleri de cikiyor.\n",
    "#sonrasinda bir de confidencesi (dogru sekilde nesne tespiti, yani prob olarak dusunebiliriz. tahmin.) ortaya cikiyor "
   ]
  },
  {
   "cell_type": "code",
   "execution_count": null,
   "id": "aa07d62f",
   "metadata": {},
   "outputs": [],
   "source": [
    "import numpy as np\n",
    "import os\n",
    "import cv2"
   ]
  },
  {
   "cell_type": "code",
   "execution_count": null,
   "id": "367503a0",
   "metadata": {},
   "outputs": [],
   "source": [
    "#burada siniflandirma yapabildigmiz classlar var.\n",
    "CLASSES = [\"background\", \"aeroplane\", \"bicycle\", \"bird\", \"boat\",\n",
    "    \"bottle\", \"bus\", \"car\", \"cat\", \"chair\", \"cow\", \"diningtable\",\n",
    "    \"dog\", \"horse\", \"motorbike\", \"person\", \"pottedplant\", \"sheep\",\n",
    "    \"sofa\", \"train\", \"tvmonitor\"]\n",
    "\n",
    "#her bir sinif icin renk blirliyoruz.\n",
    "COLORS = np.random.uniform(0,255,size=(len(CLASSES),3))\n",
    "\n",
    "#simdi ise cv2 kutuphanesini kullanarak deeopneeuralneetwork kismindan gerekli olan mobileneetssd yi iceriye aktariyoruz.\n",
    "net = cv2.dnn.readNetFromCaffe(\"MobileNetSSD_deploy.prototxt.txt\", \"MobileNetSSD_deploy.caffemodel\")\n",
    "\n",
    "\n",
    "#resimleri ice aktariyoruz.\n",
    "files = os.listdir()\n",
    "img_path_list = []\n",
    "for f in files:\n",
    "    if f.endswith(\".jpg\"):\n",
    "        img_path_list.append(f)\n",
    "        \n",
    "for i in img_path_list:\n",
    "    #resimleri okuyoruz.\n",
    "    image = cv2.imread(i)\n",
    "    #shape deegerlerindene yuksekelik gnislik aliyoruz.,\n",
    "    (h,w) = image.shape[:2]\n",
    "    #burda cv2 nin neural nworkunu kullanarak, bunu preprocces olarak dusunebiliriz. meesela rsize yapiyoruz, 300 e 300\n",
    "    #300 e 300 olmasini sebebi ssd boylee kabul ediyor.geri kalanlar ise modlle ilgili parametreler. onlari degistirmiyoruz.\n",
    "    blob = cv2.dnn.blobFromImage(cv2.resize(image,(300, 300)), 0.007843,(300, 300), 127.5)\n",
    "    \n",
    "    net.setInput(blob)\n",
    "    #detectionlarimizi elde ettik.\n",
    "    detections = net.forward()\n",
    "    \n",
    "    #simdi bu detectionlari gorsellestiricez.\n",
    "    for j in np.arange(0, detections.shape[2]):\n",
    "        \n",
    "        confidence = detections[0,0,j,2]\n",
    "        \n",
    "        #burdaki confidence degerini degistirerek tespit uzerinde oynamalara yapabiliriz.\n",
    "        if confidence > 0.10:\n",
    "            \n",
    "            idx = int(detections[0,0,j,1])\n",
    "            box = detections[0,0,j,3:7]*np.array([w,h,w,h])\n",
    "            (startX, startY, endX, endY) = box.astype(\"int\")\n",
    "            \n",
    "            #burada labeli ve % kac tahmin ettigniz yaziyoruz.\n",
    "            label = \"{}: {}\".format(CLASSES[idx], confidence)\n",
    "            cv2.rectangle(image, (startX, startY), (endX, endY), COLORS[idx],2)\n",
    "            y = startY - 16 if startY -16 >15 else startY + 16\n",
    "            cv2.putText(image, label, (startX,y),cv2.FONT_HERSHEY_SIMPLEX, 0.5,COLORS[idx],2)\n",
    "            \n",
    "    cv2.imshow(\"ssd\",image)\n",
    "    if cv2.waitKey(0) & 0xFF == ord(\"q\"): continue"
   ]
  },
  {
   "cell_type": "code",
   "execution_count": null,
   "id": "06ceacc3",
   "metadata": {},
   "outputs": [],
   "source": []
  },
  {
   "cell_type": "code",
   "execution_count": null,
   "id": "00ac8ed4",
   "metadata": {},
   "outputs": [],
   "source": []
  },
  {
   "cell_type": "code",
   "execution_count": null,
   "id": "76781105",
   "metadata": {},
   "outputs": [],
   "source": []
  },
  {
   "cell_type": "code",
   "execution_count": null,
   "id": "b5c98728",
   "metadata": {},
   "outputs": [],
   "source": []
  },
  {
   "cell_type": "code",
   "execution_count": null,
   "id": "465545a7",
   "metadata": {},
   "outputs": [],
   "source": []
  },
  {
   "cell_type": "code",
   "execution_count": null,
   "id": "c2aac426",
   "metadata": {},
   "outputs": [],
   "source": []
  },
  {
   "cell_type": "code",
   "execution_count": null,
   "id": "c90b93cb",
   "metadata": {},
   "outputs": [],
   "source": []
  },
  {
   "cell_type": "code",
   "execution_count": null,
   "id": "f1fb3227",
   "metadata": {},
   "outputs": [],
   "source": []
  },
  {
   "cell_type": "code",
   "execution_count": null,
   "id": "04178e5f",
   "metadata": {},
   "outputs": [],
   "source": []
  },
  {
   "cell_type": "code",
   "execution_count": null,
   "id": "8db6e871",
   "metadata": {},
   "outputs": [],
   "source": []
  },
  {
   "cell_type": "code",
   "execution_count": null,
   "id": "49fd87e9",
   "metadata": {},
   "outputs": [],
   "source": []
  },
  {
   "cell_type": "code",
   "execution_count": null,
   "id": "b0744a14",
   "metadata": {},
   "outputs": [],
   "source": []
  },
  {
   "cell_type": "code",
   "execution_count": null,
   "id": "961d54a6",
   "metadata": {},
   "outputs": [],
   "source": []
  },
  {
   "cell_type": "code",
   "execution_count": null,
   "id": "0071c81a",
   "metadata": {},
   "outputs": [],
   "source": []
  },
  {
   "cell_type": "code",
   "execution_count": null,
   "id": "2894e47b",
   "metadata": {},
   "outputs": [],
   "source": []
  },
  {
   "cell_type": "code",
   "execution_count": null,
   "id": "16a9dbab",
   "metadata": {},
   "outputs": [],
   "source": []
  },
  {
   "cell_type": "code",
   "execution_count": null,
   "id": "b0a2fdbc",
   "metadata": {},
   "outputs": [],
   "source": []
  },
  {
   "cell_type": "code",
   "execution_count": null,
   "id": "5a11be3c",
   "metadata": {},
   "outputs": [],
   "source": []
  },
  {
   "cell_type": "code",
   "execution_count": null,
   "id": "4c1eb793",
   "metadata": {},
   "outputs": [],
   "source": []
  },
  {
   "cell_type": "code",
   "execution_count": null,
   "id": "ea2910b2",
   "metadata": {},
   "outputs": [],
   "source": []
  },
  {
   "cell_type": "code",
   "execution_count": null,
   "id": "10cd6774",
   "metadata": {},
   "outputs": [],
   "source": []
  },
  {
   "cell_type": "code",
   "execution_count": null,
   "id": "d112c808",
   "metadata": {},
   "outputs": [],
   "source": []
  },
  {
   "cell_type": "code",
   "execution_count": null,
   "id": "d92f0968",
   "metadata": {},
   "outputs": [],
   "source": []
  },
  {
   "cell_type": "code",
   "execution_count": null,
   "id": "e71c61c3",
   "metadata": {},
   "outputs": [],
   "source": []
  }
 ],
 "metadata": {
  "kernelspec": {
   "display_name": "Python 3 (ipykernel)",
   "language": "python",
   "name": "python3"
  },
  "language_info": {
   "codemirror_mode": {
    "name": "ipython",
    "version": 3
   },
   "file_extension": ".py",
   "mimetype": "text/x-python",
   "name": "python",
   "nbconvert_exporter": "python",
   "pygments_lexer": "ipython3",
   "version": "3.9.18"
  }
 },
 "nbformat": 4,
 "nbformat_minor": 5
}
