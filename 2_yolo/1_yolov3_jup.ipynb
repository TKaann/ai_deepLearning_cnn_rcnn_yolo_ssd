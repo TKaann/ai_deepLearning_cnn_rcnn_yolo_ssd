{
 "cells": [
  {
   "cell_type": "code",
   "execution_count": null,
   "id": "3f4d1936",
   "metadata": {},
   "outputs": [],
   "source": [
    "#yoloya bir nesne dedktoru olarak bakabiliriz. nesne dedektoru dedigimiz sey nesneyi bulur ve nesneyi tanimlar yani nesneyi\n",
    "#siniflandirir. nesne algilama icin evrisimli sinir aglarini kullanir ayni rcnn de oldugu gibi.\n",
    "#yoloV3 en yeni yolo cesididir.\n",
    "#gonruntu veya videolarda 80 farkli nesneyi tanir ve super hizlidir.\n",
    "#yoloyu bize verilen kutuphanesi ile kullanicaz."
   ]
  },
  {
   "cell_type": "code",
   "execution_count": null,
   "id": "70f0b027",
   "metadata": {},
   "outputs": [],
   "source": [
    "import cv2\n",
    "import numpy as np\n",
    "\n",
    "#yolo modelinden yoloyu cekiyoruz.\n",
    "from yolo_model import YOLO"
   ]
  },
  {
   "cell_type": "code",
   "execution_count": null,
   "id": "61d02929",
   "metadata": {},
   "outputs": [],
   "source": [
    "#literaturde kullanilan 2 tane parametre var 0.6 ve 0.5 bunlari kullaniyortuzx.\n",
    "yolo = YOLO(0.6, 0.5)\n",
    "#burada da yolo ile siniflandirilan etiketler var onu cekiyoruz.\n",
    "file = \"data/coco_classes.txt\"\n",
    "\n",
    "with open(file) as f:\n",
    "    class_name = f.readlines()\n",
    "\n",
    "#aralarindaki bosluklari siliyoruz \\n leri.\n",
    "all_classes = [c.strip() for c in class_name]\n",
    "\n",
    "#simdi siniflandiracagimiz ve nesne tespiti yapacagimiz yere gecelim.\n",
    "#oncelikle reimlerimizi import ediyoruz.\n",
    "f = \"dog_cat.jpg\"\n",
    "path = \"images/\"+f\n",
    "image = cv2.imread(path)\n",
    "cv2.imshow(\"image\",image)\n",
    "\n",
    "#simdi preprocces yapicaz, bu resim buyuk ve bu resmi yolo icin uygun hale getiricez. 416 ya 416 yolonun istedigi size\n",
    "pimage = cv2.resize(image, (416,416))\n",
    "#bu bir resim oldguu icin resmi array e ceviriyoruz.\n",
    "pimage = np.array(pimage, dtype = \"float32\")\n",
    "#resmi normalize ediyoruz.\n",
    "pimage /= 255.0\n",
    "#burda da yolo icin gerekli olan satir icine bir [] liste daha ekliyoruz.\n",
    "pimage = np.expand_dims(pimage, axis = 0)\n",
    "\n",
    "\n",
    "#yolo ile predict islemini yapalim.\n",
    "#bu bize 3 tane sey veriyor 1. olarak nesneleri cevreleyen kutuck 2. olarak tespit edilen nesnelerin siniflari\n",
    "#3. olarak tahmin yuzdeleri yani yuzde kac olasilikla bu nesne oldugu.\n",
    "boxes, classes, scores = yolo.predict(pimage, image.shape)\n",
    "#cikti olarak 2 tane kutucuk ve 16 ve 15 classlari aldik.\n",
    "\n",
    "\n",
    "#simdi burda ise yaptigimiz isi gorsellestiriyoruz. burda box score ve cl donduruyoruz.\n",
    "for box, score, cl in zip(boxes, scores, classes):\n",
    "    #kutucuk bize x y kordinatlari w ve h donduruyor.\n",
    "    x,y,w,h = box\n",
    "    \n",
    "    #burda hafif bir pay birakiyoruz bunu yapmasak da olur ama yaptigimiz icin biraz daha guzel durucak.\n",
    "    #burdaki floor ise sayilari asagiya yuvarliyor. yani 1.5 ise 1 yapiyor gibi.\n",
    "    top = max(0, np.floor(x + 0.5).astype(int))\n",
    "    left = max(0, np.floor(y + 0.5).astype(int))\n",
    "    right = max(0, np.floor(x + w + 0.5).astype(int))\n",
    "    bottom = max(0, np.floor(y + h + 0.5).astype(int))\n",
    "\n",
    "    \n",
    "    #rect i img nin ustune cizdiriyoruz.\n",
    "    cv2.rectangle(image, (top,left), (right, bottom),(255,0,0),2)\n",
    "    #burda da cektigi klaslari yazdiriyoruz resmin ustune. ve score u yazdiriyoruz yani yuzde kac o cikmis.\n",
    "    cv2.putText(image, \"{} {}\".format(all_classes[cl],score),(top,left-6),cv2.FONT_HERSHEY_SIMPLEX,0.6,(0,0,255),1,cv2.LINE_AA)\n",
    "    \n",
    "#gorselimizi cizdiriyoruz.\n",
    "cv2.imshow(\"yolo\",image)    "
   ]
  },
  {
   "cell_type": "code",
   "execution_count": null,
   "id": "1377ae8b",
   "metadata": {},
   "outputs": [],
   "source": [
    "#bunu yolo kutuphanesinin icinde olan nesneler icin de kameramizi acip yapabiliriz. while dongusu icine acip gercek zamanli."
   ]
  },
  {
   "cell_type": "code",
   "execution_count": null,
   "id": "da3bd5f9",
   "metadata": {},
   "outputs": [],
   "source": []
  },
  {
   "cell_type": "code",
   "execution_count": null,
   "id": "c827fe2a",
   "metadata": {},
   "outputs": [],
   "source": []
  },
  {
   "cell_type": "code",
   "execution_count": null,
   "id": "867570de",
   "metadata": {},
   "outputs": [],
   "source": []
  },
  {
   "cell_type": "code",
   "execution_count": null,
   "id": "74e051d0",
   "metadata": {},
   "outputs": [],
   "source": []
  },
  {
   "cell_type": "code",
   "execution_count": null,
   "id": "52258be1",
   "metadata": {},
   "outputs": [],
   "source": []
  },
  {
   "cell_type": "code",
   "execution_count": null,
   "id": "ad164894",
   "metadata": {},
   "outputs": [],
   "source": []
  },
  {
   "cell_type": "code",
   "execution_count": null,
   "id": "65a5126b",
   "metadata": {},
   "outputs": [],
   "source": []
  },
  {
   "cell_type": "code",
   "execution_count": null,
   "id": "98aa9f33",
   "metadata": {},
   "outputs": [],
   "source": []
  },
  {
   "cell_type": "code",
   "execution_count": null,
   "id": "7bcba158",
   "metadata": {},
   "outputs": [],
   "source": []
  },
  {
   "cell_type": "code",
   "execution_count": null,
   "id": "be275326",
   "metadata": {},
   "outputs": [],
   "source": []
  },
  {
   "cell_type": "code",
   "execution_count": null,
   "id": "dbd34cbd",
   "metadata": {},
   "outputs": [],
   "source": []
  },
  {
   "cell_type": "code",
   "execution_count": null,
   "id": "ef8b1c43",
   "metadata": {},
   "outputs": [],
   "source": []
  },
  {
   "cell_type": "code",
   "execution_count": null,
   "id": "039b1023",
   "metadata": {},
   "outputs": [],
   "source": []
  },
  {
   "cell_type": "code",
   "execution_count": null,
   "id": "1c2b297d",
   "metadata": {},
   "outputs": [],
   "source": []
  },
  {
   "cell_type": "code",
   "execution_count": null,
   "id": "93de4d0c",
   "metadata": {},
   "outputs": [],
   "source": []
  },
  {
   "cell_type": "code",
   "execution_count": null,
   "id": "3e212bf8",
   "metadata": {},
   "outputs": [],
   "source": []
  },
  {
   "cell_type": "code",
   "execution_count": null,
   "id": "696eafc5",
   "metadata": {},
   "outputs": [],
   "source": []
  },
  {
   "cell_type": "code",
   "execution_count": null,
   "id": "ddc8d9a8",
   "metadata": {},
   "outputs": [],
   "source": []
  }
 ],
 "metadata": {
  "kernelspec": {
   "display_name": "Python 3 (ipykernel)",
   "language": "python",
   "name": "python3"
  },
  "language_info": {
   "codemirror_mode": {
    "name": "ipython",
    "version": 3
   },
   "file_extension": ".py",
   "mimetype": "text/x-python",
   "name": "python",
   "nbconvert_exporter": "python",
   "pygments_lexer": "ipython3",
   "version": "3.9.18"
  }
 },
 "nbformat": 4,
 "nbformat_minor": 5
}
